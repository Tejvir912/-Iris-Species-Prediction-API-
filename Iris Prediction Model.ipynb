{
 "cells": [
  {
   "cell_type": "code",
   "execution_count": null,
   "id": "9cb5b2b6-2352-4bd7-8c63-bef30e25abb9",
   "metadata": {},
   "outputs": [],
   "source": []
  }
 ],
 "metadata": {
  "kernelspec": {
   "display_name": "",
   "name": ""
  },
  "language_info": {
   "name": ""
  }
 },
 "nbformat": 4,
 "nbformat_minor": 5
}
